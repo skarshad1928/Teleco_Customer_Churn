{
 "cells": [
  {
   "cell_type": "code",
   "execution_count": null,
   "id": "5016aa0f-3619-4f9a-9768-09921d1fb50b",
   "metadata": {},
   "outputs": [],
   "source": []
  }
 ],
 "metadata": {
  "kernelspec": {
   "display_name": "Python (mychurnenv)",
   "language": "python",
   "name": "mychurnenv"
  },
  "language_info": {
   "codemirror_mode": {
    "name": "ipython",
    "version": 3
   },
   "file_extension": ".py",
   "mimetype": "text/x-python",
   "name": "python",
   "nbconvert_exporter": "python",
   "pygments_lexer": "ipython3",
   "version": "3.12.0"
  }
 },
 "nbformat": 4,
 "nbformat_minor": 5
}
